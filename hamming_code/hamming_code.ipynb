{
 "cells": [
  {
   "cell_type": "code",
   "execution_count": 94,
   "metadata": {},
   "outputs": [
    {
     "data": {
      "text/plain": [
       "'100110000100001011101'"
      ]
     },
     "execution_count": 94,
     "metadata": {},
     "output_type": "execute_result"
    }
   ],
   "source": [
    "import math\n",
    "\n",
    "def insert_control_bytes(message):\n",
    "    k = 1\n",
    "    i = 0\n",
    "    while k < len(message):\n",
    "        k = 2**i\n",
    "        message = message[:k-1] + '0' + message[k-1:]\n",
    "        i += 1\n",
    "    return message[:-1]\n",
    "\n",
    "def compute_control_byte(k, message):\n",
    "    n = 2**k\n",
    "    count = 0\n",
    "    c = k\n",
    "    while c+n <= len(message):\n",
    "        for i in range(c,c+n):\n",
    "            if message[i] == 1:\n",
    "                count += 1\n",
    "        c += 2*n\n",
    "    return 0 if count % 2 == 0 else 1\n",
    "\n",
    "def hamming_code_decode(message):\n",
    "    message = insert_control_bytes(message)\n",
    "    message = [int(i) for i in message]\n",
    "    power = int(math.sqrt(len(message))) + 1\n",
    "    control_bytes = []\n",
    "    for i in range(power):\n",
    "        control_bytes.append(compute_control_byte(i, message))\n",
    "    for i in range(power):\n",
    "        message[2**i-1] = control_bytes[i]\n",
    "    res = \"\"\n",
    "    for char in message:\n",
    "        res += str(char)\n",
    "    return res\n",
    "    \n",
    "hamming_code_decode('0100010000111101')\n"
   ]
  }
 ],
 "metadata": {
  "kernelspec": {
   "display_name": "Python 3",
   "language": "python",
   "name": "python3"
  },
  "language_info": {
   "codemirror_mode": {
    "name": "ipython",
    "version": 3
   },
   "file_extension": ".py",
   "mimetype": "text/x-python",
   "name": "python",
   "nbconvert_exporter": "python",
   "pygments_lexer": "ipython3",
   "version": "3.7.4"
  }
 },
 "nbformat": 4,
 "nbformat_minor": 2
}
